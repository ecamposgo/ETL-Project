{
 "cells": [
  {
   "cell_type": "code",
   "execution_count": 1,
   "id": "bc22add6",
   "metadata": {},
   "outputs": [],
   "source": [
    "import requests\n",
    "from bs4 import BeautifulSoup as bs\n",
    "import pandas as pd\n",
    "\n",
    "import warnings\n",
    "warnings.filterwarnings('ignore')"
   ]
  },
  {
   "cell_type": "code",
   "execution_count": 2,
   "id": "73774aa6",
   "metadata": {},
   "outputs": [],
   "source": [
    "url ='https://en.wikipedia.org/wiki/List_of_Michelin_3-star_restaurants'\n",
    "html=requests.get(url).text\n",
    "sopa=bs(html, 'html.parser')"
   ]
  },
  {
   "cell_type": "code",
   "execution_count": 3,
   "id": "6b4afbab",
   "metadata": {},
   "outputs": [],
   "source": [
    "tabla=sopa.find_all('table', class_='wikitable sortable')[0]\n",
    "tbody=tabla.find('tbody')\n",
    "registros=tbody.find_all('tr')[1]\n",
    "datos=registros.find_all('td')\n",
    "#registros.text"
   ]
  },
  {
   "cell_type": "code",
   "execution_count": 4,
   "id": "ca6b1cf2",
   "metadata": {
    "scrolled": false
   },
   "outputs": [],
   "source": [
    "colum_names=['location','restaurant','chef','awarded_year']\n",
    "df_restaurants=pd.DataFrame(columns=colum_names)\n",
    "\n",
    "\n",
    "tablas=sopa.find_all('table', class_='wikitable sortable')\n",
    "\n",
    "for tabla in tablas:\n",
    "   \n",
    "    tbody=tabla.find('tbody')\n",
    "    filas=tbody.find_all('tr')\n",
    "    \n",
    "    for i in range(1,len(filas)-1):\n",
    "        \n",
    "        fila = filas[i]\n",
    "        datos=fila.find_all('td')    \n",
    "        registro={'location': datos[0].text.split('\\n')[0],'restaurant': datos[1].text.split('\\n')[0],\n",
    "                  'chef': datos[2].text.split('[')[0],'awarded_year': datos[3].text.split('[')[0]} \n",
    "        \n",
    "        df_restaurants=df_restaurants.append(registro, ignore_index=True)\n"
   ]
  },
  {
   "cell_type": "code",
   "execution_count": 5,
   "id": "83c98f5c",
   "metadata": {},
   "outputs": [
    {
     "data": {
      "text/html": [
       "<div>\n",
       "<style scoped>\n",
       "    .dataframe tbody tr th:only-of-type {\n",
       "        vertical-align: middle;\n",
       "    }\n",
       "\n",
       "    .dataframe tbody tr th {\n",
       "        vertical-align: top;\n",
       "    }\n",
       "\n",
       "    .dataframe thead th {\n",
       "        text-align: right;\n",
       "    }\n",
       "</style>\n",
       "<table border=\"1\" class=\"dataframe\">\n",
       "  <thead>\n",
       "    <tr style=\"text-align: right;\">\n",
       "      <th></th>\n",
       "      <th>restaurant</th>\n",
       "      <th>location</th>\n",
       "      <th>chef</th>\n",
       "      <th>awarded_year</th>\n",
       "    </tr>\n",
       "  </thead>\n",
       "  <tbody>\n",
       "    <tr>\n",
       "      <th>0</th>\n",
       "      <td>Hof van Cleve</td>\n",
       "      <td>Kruishoutem</td>\n",
       "      <td>Peter Goossens</td>\n",
       "      <td>2005</td>\n",
       "    </tr>\n",
       "    <tr>\n",
       "      <th>1</th>\n",
       "      <td>Zilte</td>\n",
       "      <td>Antwerp</td>\n",
       "      <td>Viki Geunes\\n</td>\n",
       "      <td>2021</td>\n",
       "    </tr>\n",
       "    <tr>\n",
       "      <th>2</th>\n",
       "      <td>Xin Rong Ji</td>\n",
       "      <td>Beijing</td>\n",
       "      <td>Zhang Yong (Founder)</td>\n",
       "      <td>2020</td>\n",
       "    </tr>\n",
       "    <tr>\n",
       "      <th>3</th>\n",
       "      <td>King's Joy</td>\n",
       "      <td>Beijing</td>\n",
       "      <td>Gary Yin\\n</td>\n",
       "      <td>2021</td>\n",
       "    </tr>\n",
       "    <tr>\n",
       "      <th>4</th>\n",
       "      <td>Geranium</td>\n",
       "      <td>Copenhagen</td>\n",
       "      <td>Rasmus Kofoed</td>\n",
       "      <td>2016</td>\n",
       "    </tr>\n",
       "  </tbody>\n",
       "</table>\n",
       "</div>"
      ],
      "text/plain": [
       "      restaurant     location                  chef awarded_year\n",
       "0  Hof van Cleve  Kruishoutem        Peter Goossens         2005\n",
       "1          Zilte      Antwerp         Viki Geunes\\n         2021\n",
       "2    Xin Rong Ji      Beijing  Zhang Yong (Founder)         2020\n",
       "3     King's Joy      Beijing            Gary Yin\\n         2021\n",
       "4       Geranium   Copenhagen         Rasmus Kofoed         2016"
      ]
     },
     "execution_count": 5,
     "metadata": {},
     "output_type": "execute_result"
    }
   ],
   "source": [
    "df_restaurants=df_restaurants.reindex(columns=['restaurant', 'location','chef', 'awarded_year'])\n",
    "df_restaurants.head()"
   ]
  },
  {
   "cell_type": "code",
   "execution_count": 6,
   "id": "74a4dd93",
   "metadata": {},
   "outputs": [
    {
     "data": {
      "text/plain": [
       "(124, 4)"
      ]
     },
     "execution_count": 6,
     "metadata": {},
     "output_type": "execute_result"
    }
   ],
   "source": [
    "df_restaurants.shape"
   ]
  },
  {
   "cell_type": "code",
   "execution_count": 7,
   "id": "1e85ac3c",
   "metadata": {},
   "outputs": [],
   "source": [
    "url ='https://www.numbeo.com/cost-of-living/country_price_rankings?itemId=105&displayCurrency=EUR'\n",
    "html=requests.get(url).text\n",
    "sopa=bs(html, 'html.parser')"
   ]
  },
  {
   "cell_type": "code",
   "execution_count": 9,
   "id": "0ebc1dfd",
   "metadata": {},
   "outputs": [
    {
     "data": {
      "text/html": [
       "<div>\n",
       "<style scoped>\n",
       "    .dataframe tbody tr th:only-of-type {\n",
       "        vertical-align: middle;\n",
       "    }\n",
       "\n",
       "    .dataframe tbody tr th {\n",
       "        vertical-align: top;\n",
       "    }\n",
       "\n",
       "    .dataframe thead th {\n",
       "        text-align: right;\n",
       "    }\n",
       "</style>\n",
       "<table border=\"1\" class=\"dataframe\">\n",
       "  <thead>\n",
       "    <tr style=\"text-align: right;\">\n",
       "      <th></th>\n",
       "      <th>country</th>\n",
       "      <th>net_salary</th>\n",
       "    </tr>\n",
       "  </thead>\n",
       "  <tbody>\n",
       "    <tr>\n",
       "      <th>0</th>\n",
       "      <td>Switzerland</td>\n",
       "      <td>5931.31</td>\n",
       "    </tr>\n",
       "    <tr>\n",
       "      <th>1</th>\n",
       "      <td>Singapore</td>\n",
       "      <td>4357.28</td>\n",
       "    </tr>\n",
       "    <tr>\n",
       "      <th>2</th>\n",
       "      <td>Australia</td>\n",
       "      <td>4092.05</td>\n",
       "    </tr>\n",
       "    <tr>\n",
       "      <th>3</th>\n",
       "      <td>United Arab Emirates</td>\n",
       "      <td>3799.26</td>\n",
       "    </tr>\n",
       "    <tr>\n",
       "      <th>4</th>\n",
       "      <td>United States</td>\n",
       "      <td>3755.59</td>\n",
       "    </tr>\n",
       "  </tbody>\n",
       "</table>\n",
       "</div>"
      ],
      "text/plain": [
       "                country net_salary\n",
       "0           Switzerland    5931.31\n",
       "1             Singapore    4357.28\n",
       "2             Australia    4092.05\n",
       "3  United Arab Emirates    3799.26\n",
       "4         United States    3755.59"
      ]
     },
     "execution_count": 9,
     "metadata": {},
     "output_type": "execute_result"
    }
   ],
   "source": [
    "container=sopa.find_all('div', id='page_container')[0]\n",
    "tabla=container.find('table')\n",
    "filas=tabla.find_all('tr')\n",
    "\n",
    "colum_names=['country','net_salary']\n",
    "df_salarys=pd.DataFrame(columns=colum_names)\n",
    "\n",
    "for fila in filas:\n",
    "    \n",
    "    columnas=fila.find_all('td')\n",
    "    net_salary=columnas[3].text.replace('\\n','').replace(',','').replace('€','').strip()\n",
    "    registro={'country': columnas[1].text.replace('\\n',''),'net_salary': net_salary}        \n",
    "    df_salarys=df_salarys.append(registro, ignore_index=True)\n",
    "    \n",
    "df_salarys.head()"
   ]
  },
  {
   "cell_type": "code",
   "execution_count": 10,
   "id": "9400b3cc",
   "metadata": {},
   "outputs": [],
   "source": [
    "##crear la cadena de conexion para conectarnos a mysql(le indicamos a que base de datos nos conectamos)\n",
    "import src \n",
    "conn_ = src.get_conn_string('./password.txt','michelin')\n",
    "###incluir el txt del password en gitignore"
   ]
  },
  {
   "cell_type": "code",
   "execution_count": 11,
   "id": "558c8684",
   "metadata": {},
   "outputs": [
    {
     "data": {
      "text/plain": [
       "106"
      ]
     },
     "execution_count": 11,
     "metadata": {},
     "output_type": "execute_result"
    }
   ],
   "source": [
    "from sqlalchemy import create_engine\n",
    "cursor=create_engine(conn_)\n",
    "\n",
    "\n",
    "df_restaurants.to_sql(name='chefs', con=cursor, if_exists='replace', index=False)\n",
    "df_salarys.to_sql(name='salaries', con=cursor, if_exists='replace', index=False)"
   ]
  }
 ],
 "metadata": {
  "kernelspec": {
   "display_name": "Python 3 (ipykernel)",
   "language": "python",
   "name": "python3"
  },
  "language_info": {
   "codemirror_mode": {
    "name": "ipython",
    "version": 3
   },
   "file_extension": ".py",
   "mimetype": "text/x-python",
   "name": "python",
   "nbconvert_exporter": "python",
   "pygments_lexer": "ipython3",
   "version": "3.9.12"
  }
 },
 "nbformat": 4,
 "nbformat_minor": 5
}
